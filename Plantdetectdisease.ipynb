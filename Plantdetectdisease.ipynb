{
  "nbformat": 4,
  "nbformat_minor": 0,
  "metadata": {
    "colab": {
      "provenance": [],
      "authorship_tag": "ABX9TyNUGC848vVto36MzGP9egpi"
    },
    "kernelspec": {
      "name": "python3",
      "display_name": "Python 3"
    },
    "language_info": {
      "name": "python"
    },
    "accelerator": "GPU",
    "gpuClass": "standard"
  },
  "cells": [
    {
      "cell_type": "code",
      "execution_count": null,
      "metadata": {
        "id": "28xFPDuwu-Ii"
      },
      "outputs": [],
      "source": [
        "#Upload kaggle.json:\n",
        "#Install the Kaggle library:\n",
        "#! pip install kaggle"
      ]
    },
    {
      "cell_type": "code",
      "source": [
        "#Make a directory named “.kaggle”:\n",
        "#! mkdir ~/.kaggle"
      ],
      "metadata": {
        "id": "LQGPTKU0xSqV"
      },
      "execution_count": null,
      "outputs": []
    },
    {
      "cell_type": "code",
      "source": [
        "#Copy the “kaggle.json” into this new directory:\n",
        "#! cp kaggle.json ~/.kaggle/"
      ],
      "metadata": {
        "id": "D5ve3CiSxYyH"
      },
      "execution_count": null,
      "outputs": []
    },
    {
      "cell_type": "code",
      "source": [
        "#Allocate the required permission for this file.:\n",
        "#! chmod 600 ~/.kaggle/kaggle.json"
      ],
      "metadata": {
        "id": "LYIwxTRGxc3B"
      },
      "execution_count": null,
      "outputs": []
    },
    {
      "cell_type": "code",
      "source": [
        "#Download dataset emmarex/plantdisease from kaggle:\n",
        "#! kaggle datasets download emmarex/plantdisease"
      ],
      "metadata": {
        "id": "TRNS-NDCxjxp"
      },
      "execution_count": 1,
      "outputs": []
    },
    {
      "cell_type": "code",
      "source": [
        "# !pip install patool\n",
        "# import patoolib\n",
        "# patoolib.extract_archive('/content/APPLEDISEASE.zip')"
      ],
      "metadata": {
        "id": "J53hgz6g0Hde"
      },
      "execution_count": null,
      "outputs": []
    },
    {
      "cell_type": "code",
      "source": [
        "#@title Default title text\n",
        "#Unzip: /content/archive.zip\n",
        "! unzip \"/content/APPLEDISEASE.zip\""
      ],
      "metadata": {
        "cellView": "code",
        "id": "FsEfsg-UyqMP"
      },
      "execution_count": null,
      "outputs": []
    },
    {
      "cell_type": "code",
      "source": [
        "#!pip install -U label-studio\n",
        "! file APPLEDISEASE.zip"
      ],
      "metadata": {
        "id": "Zv3SgpI8boYe",
        "colab": {
          "base_uri": "https://localhost:8080/"
        },
        "outputId": "f30c9811-cfca-4c52-c0e0-e643e8e730dd"
      },
      "execution_count": 3,
      "outputs": [
        {
          "output_type": "stream",
          "name": "stdout",
          "text": [
            "APPLEDISEASE.zip: Zip archive data, at least v4.5 to extract\n"
          ]
        }
      ]
    },
    {
      "cell_type": "code",
      "source": [
        "import cv2\n",
        "import os\n",
        "\n",
        "path = '/content/APPLE_DISEASE_DATASET'\n",
        "images = []\n",
        "for filename in os.listdir(path):\n",
        "    img = cv2.imread(os.path.join(path, filename))\n",
        "    if img is not None:\n",
        "        images.append(img)\n"
      ],
      "metadata": {
        "id": "RYk_Bnf_073J"
      },
      "execution_count": 4,
      "outputs": []
    },
    {
      "cell_type": "code",
      "source": [
        "for image in images:\n",
        "    cv2.imshow('image', image)\n",
        "    cv2.waitKey(10)\n",
        "    cv2.destroyAllWindows()\n",
        "    # use cv2.rectangle to draw a bounding box around the object or area that needs to be labeled\n"
      ],
      "metadata": {
        "id": "s9n6vlpM2Rja"
      },
      "execution_count": 5,
      "outputs": []
    },
    {
      "cell_type": "code",
      "source": [
        "'''path_labeled = '/content/dataset_labeled'\n",
        "for i, image in enumerate(images):\n",
        "    cv2.imwrite(os.path.join(path_labeled, 'labeled_{}.jpg'.format(i)), image)\n",
        "    # save the label data to a CSV file or other format to associate the image file names with their corresponding labels\n",
        "'''"
      ],
      "metadata": {
        "id": "MD9KtmxQ2SjG"
      },
      "execution_count": null,
      "outputs": []
    },
    {
      "cell_type": "code",
      "source": [
        "import numpy as np\n",
        "import pandas as pd\n",
        "import matplotlib.pyplot as plt\n",
        "import os\n",
        "\n",
        "import keras\n",
        "from tensorflow.keras.utils import img_to_array, load_img\n",
        "from tensorflow.keras.preprocessing.image import ImageDataGenerator\n",
        "from keras.applications.vgg19 import VGG19, preprocess_input, decode_predictions"
      ],
      "metadata": {
        "id": "RjMLpAIHNX4g"
      },
      "execution_count": 35,
      "outputs": []
    },
    {
      "cell_type": "code",
      "source": [
        "#List of dir files:\n",
        "os.listdir(\"/content/APPLE_DISEASE_DATASET\")"
      ],
      "metadata": {
        "colab": {
          "base_uri": "https://localhost:8080/"
        },
        "id": "AWEzBeyvwbbz",
        "outputId": "268de298-8305-41eb-a3f9-8ebd8a63fc68"
      },
      "execution_count": 7,
      "outputs": [
        {
          "output_type": "execute_result",
          "data": {
            "text/plain": [
              "['LEAF BLOTCH', 'APPLE ROT LEAVES', 'SCAB LEAVES', 'HEALTHY LEAVES']"
            ]
          },
          "metadata": {},
          "execution_count": 7
        }
      ]
    },
    {
      "cell_type": "code",
      "source": [
        "#No. of files:\n",
        "len(os.listdir(\"/content/APPLE_DISEASE_DATASET\"))"
      ],
      "metadata": {
        "colab": {
          "base_uri": "https://localhost:8080/"
        },
        "id": "hR99wzbqpuV3",
        "outputId": "596acd8e-21c2-40be-8734-1f14f27f60d5"
      },
      "execution_count": 8,
      "outputs": [
        {
          "output_type": "execute_result",
          "data": {
            "text/plain": [
              "4"
            ]
          },
          "metadata": {},
          "execution_count": 8
        }
      ]
    },
    {
      "cell_type": "code",
      "source": [
        "#Training:\n",
        "train = ImageDataGenerator(zoom_range = 0.5, shear_range = 0.3, rescale = 1/255, horizontal_flip = True, preprocessing_function = preprocess_input)\n",
        "\n",
        "val = ImageDataGenerator(preprocessing_function = preprocess_input)"
      ],
      "metadata": {
        "id": "l4xF7YR7ymqU"
      },
      "execution_count": 36,
      "outputs": []
    },
    {
      "cell_type": "code",
      "source": [
        "#target size = (w, h), batch size = data batch size\n",
        "train = train.flow_from_directory(directory = \"/content/APPLE_DISEASE_DATASET\", target_size = (256, 256), batch_size = 32)\n",
        "val = val.flow_from_directory(directory = \"/content/APPLE_DISEASE_DATASET\", target_size = (256, 256), batch_size = 32)"
      ],
      "metadata": {
        "colab": {
          "base_uri": "https://localhost:8080/"
        },
        "id": "aQvYR8VLzOOz",
        "outputId": "ff46de3f-667c-45d1-dee8-67f39788c9db"
      },
      "execution_count": 37,
      "outputs": [
        {
          "output_type": "stream",
          "name": "stdout",
          "text": [
            "Found 419 images belonging to 4 classes.\n",
            "Found 419 images belonging to 4 classes.\n"
          ]
        }
      ]
    },
    {
      "cell_type": "code",
      "source": [
        "t_img, label = train.next()"
      ],
      "metadata": {
        "id": "2oN57Gff1WzK"
      },
      "execution_count": 11,
      "outputs": []
    },
    {
      "cell_type": "code",
      "source": [
        "t_img.shape"
      ],
      "metadata": {
        "colab": {
          "base_uri": "https://localhost:8080/"
        },
        "id": "lTmsXbyX1cs9",
        "outputId": "675535bc-ccfa-44af-d68b-c1cc5e71a1d0"
      },
      "execution_count": 12,
      "outputs": [
        {
          "output_type": "execute_result",
          "data": {
            "text/plain": [
              "(32, 256, 256, 3)"
            ]
          },
          "metadata": {},
          "execution_count": 12
        }
      ]
    },
    {
      "cell_type": "code",
      "source": [
        "def plotImage(img_arr, label):\n",
        "  for img, l in zip(img_arr, label):\n",
        "    plt.figure(figsize = (5,5))\n",
        "    plt.imshow(img)\n",
        "    plt.show()"
      ],
      "metadata": {
        "id": "VFYih8BD1vJF"
      },
      "execution_count": 13,
      "outputs": []
    },
    {
      "cell_type": "code",
      "source": [
        "plotImage(t_img[:3], label[:3])"
      ],
      "metadata": {
        "id": "m9aLcho-2LBA"
      },
      "execution_count": null,
      "outputs": []
    },
    {
      "cell_type": "code",
      "source": [
        "#Model:\n",
        "from keras.layers import Dense, Flatten\n",
        "from keras.models import Model\n",
        "from keras.applications.vgg19 import VGG19\n",
        "import keras"
      ],
      "metadata": {
        "id": "lx7Fa2COsB-u"
      },
      "execution_count": 15,
      "outputs": []
    },
    {
      "cell_type": "code",
      "source": [
        "base_model = VGG19(input_shape = (256, 256, 3), include_top = False)"
      ],
      "metadata": {
        "colab": {
          "base_uri": "https://localhost:8080/"
        },
        "id": "DI18SGcDDTUI",
        "outputId": "6565f3ae-9c3d-4afc-e27f-ecd0c92a7c66"
      },
      "execution_count": 16,
      "outputs": [
        {
          "output_type": "stream",
          "name": "stdout",
          "text": [
            "Downloading data from https://storage.googleapis.com/tensorflow/keras-applications/vgg19/vgg19_weights_tf_dim_ordering_tf_kernels_notop.h5\n",
            "80134624/80134624 [==============================] - 4s 0us/step\n"
          ]
        }
      ]
    },
    {
      "cell_type": "code",
      "source": [
        "for layer in base_model.layers:\n",
        "  layer.trainable = False #Do not update weights. Feature extractor."
      ],
      "metadata": {
        "id": "Mww808V0DzXm"
      },
      "execution_count": 27,
      "outputs": []
    },
    {
      "cell_type": "code",
      "source": [
        "base_model.summary()"
      ],
      "metadata": {
        "id": "4_DTIpM3D0hE"
      },
      "execution_count": null,
      "outputs": []
    },
    {
      "cell_type": "code",
      "source": [
        "X = Flatten()(base_model.output)\n",
        "X = Dense(units = 4, activation = 'softmax')(X) # 4 classes so 4 units\n",
        "model = Model(base_model.input, X)\n",
        "model.summary()"
      ],
      "metadata": {
        "id": "qf6PS0vYFN_Y",
        "colab": {
          "base_uri": "https://localhost:8080/"
        },
        "outputId": "6e857378-dc9e-4ab3-cde8-fd0b761a9ece"
      },
      "execution_count": 31,
      "outputs": [
        {
          "output_type": "stream",
          "name": "stdout",
          "text": [
            "Model: \"model_1\"\n",
            "_________________________________________________________________\n",
            " Layer (type)                Output Shape              Param #   \n",
            "=================================================================\n",
            " input_1 (InputLayer)        [(None, 256, 256, 3)]     0         \n",
            "                                                                 \n",
            " block1_conv1 (Conv2D)       (None, 256, 256, 64)      1792      \n",
            "                                                                 \n",
            " block1_conv2 (Conv2D)       (None, 256, 256, 64)      36928     \n",
            "                                                                 \n",
            " block1_pool (MaxPooling2D)  (None, 128, 128, 64)      0         \n",
            "                                                                 \n",
            " block2_conv1 (Conv2D)       (None, 128, 128, 128)     73856     \n",
            "                                                                 \n",
            " block2_conv2 (Conv2D)       (None, 128, 128, 128)     147584    \n",
            "                                                                 \n",
            " block2_pool (MaxPooling2D)  (None, 64, 64, 128)       0         \n",
            "                                                                 \n",
            " block3_conv1 (Conv2D)       (None, 64, 64, 256)       295168    \n",
            "                                                                 \n",
            " block3_conv2 (Conv2D)       (None, 64, 64, 256)       590080    \n",
            "                                                                 \n",
            " block3_conv3 (Conv2D)       (None, 64, 64, 256)       590080    \n",
            "                                                                 \n",
            " block3_conv4 (Conv2D)       (None, 64, 64, 256)       590080    \n",
            "                                                                 \n",
            " block3_pool (MaxPooling2D)  (None, 32, 32, 256)       0         \n",
            "                                                                 \n",
            " block4_conv1 (Conv2D)       (None, 32, 32, 512)       1180160   \n",
            "                                                                 \n",
            " block4_conv2 (Conv2D)       (None, 32, 32, 512)       2359808   \n",
            "                                                                 \n",
            " block4_conv3 (Conv2D)       (None, 32, 32, 512)       2359808   \n",
            "                                                                 \n",
            " block4_conv4 (Conv2D)       (None, 32, 32, 512)       2359808   \n",
            "                                                                 \n",
            " block4_pool (MaxPooling2D)  (None, 16, 16, 512)       0         \n",
            "                                                                 \n",
            " block5_conv1 (Conv2D)       (None, 16, 16, 512)       2359808   \n",
            "                                                                 \n",
            " block5_conv2 (Conv2D)       (None, 16, 16, 512)       2359808   \n",
            "                                                                 \n",
            " block5_conv3 (Conv2D)       (None, 16, 16, 512)       2359808   \n",
            "                                                                 \n",
            " block5_conv4 (Conv2D)       (None, 16, 16, 512)       2359808   \n",
            "                                                                 \n",
            " block5_pool (MaxPooling2D)  (None, 8, 8, 512)         0         \n",
            "                                                                 \n",
            " flatten_1 (Flatten)         (None, 32768)             0         \n",
            "                                                                 \n",
            " dense_1 (Dense)             (None, 4)                 131076    \n",
            "                                                                 \n",
            "=================================================================\n",
            "Total params: 20,155,460\n",
            "Trainable params: 131,076\n",
            "Non-trainable params: 20,024,384\n",
            "_________________________________________________________________\n"
          ]
        }
      ]
    },
    {
      "cell_type": "code",
      "source": [
        "model.compile(optimizer = 'adam', loss = keras.losses.categorical_crossentropy, metrics = ['accuracy'])"
      ],
      "metadata": {
        "id": "tVZmBE30wARU"
      },
      "execution_count": 32,
      "outputs": []
    },
    {
      "cell_type": "code",
      "source": [
        "#ModelCheckpoint = callback to save model weight at some frequency.\n",
        "#EarlyStopping = Stop training when monitored metric stops improving.\n",
        "#Monitor - metric to be monitored, min_delta - Acc must improve by (min change), patience - no of epochs to wait \n",
        "#before stopping if no improvement.\n",
        "#verbose - level of detail of log messages.\n",
        "from keras.callbacks import ModelCheckpoint, EarlyStopping\n",
        "es = EarlyStopping(monitor = \"val_accuracy\", min_delta = 0.01, patience = 3, verbose = 1)\n",
        "#Filepath = path where best model should be saved.\n",
        "#save_best_only - saves only best model.\n",
        "mc = ModelCheckpoint(filepath = \"Bestmodel.h5\", monitor = \"val_accuracy\", \n",
        "                     min_delta = 0.01, patience = 3, verbose = 1, save_best_only = True)\n",
        "\n",
        "#Callback:\n",
        "cb = [es, mc]"
      ],
      "metadata": {
        "id": "LVUjEhpdrZKc"
      },
      "execution_count": 33,
      "outputs": []
    },
    {
      "cell_type": "code",
      "source": [
        "his = model.fit_generator(train, steps_per_epoch = 14, epochs = 50, \n",
        "                          verbose = 1, callbacks = cb, \n",
        "                          validation_data = val, \n",
        "                          validation_steps = 14)"
      ],
      "metadata": {
        "colab": {
          "base_uri": "https://localhost:8080/"
        },
        "id": "0Nw7ju-gu7ir",
        "outputId": "9db6f92e-2e66-4d40-bd2a-5fac466bccbe"
      },
      "execution_count": 38,
      "outputs": [
        {
          "output_type": "stream",
          "name": "stderr",
          "text": [
            "<ipython-input-38-63d241add8df>:1: UserWarning: `Model.fit_generator` is deprecated and will be removed in a future version. Please use `Model.fit`, which supports generators.\n",
            "  his = model.fit_generator(train, steps_per_epoch = 14, epochs = 50,\n"
          ]
        },
        {
          "output_type": "stream",
          "name": "stdout",
          "text": [
            "Epoch 1/50\n",
            "14/14 [==============================] - ETA: 0s - loss: 2.1357 - accuracy: 0.3723\n",
            "Epoch 1: val_accuracy improved from -inf to 0.38663, saving model to Bestmodel.h5\n",
            "14/14 [==============================] - 27s 1s/step - loss: 2.1357 - accuracy: 0.3723 - val_loss: 17.0711 - val_accuracy: 0.3866\n",
            "Epoch 2/50\n",
            "14/14 [==============================] - ETA: 0s - loss: 1.7433 - accuracy: 0.3866\n",
            "Epoch 2: val_accuracy improved from 0.38663 to 0.49881, saving model to Bestmodel.h5\n",
            "14/14 [==============================] - 12s 853ms/step - loss: 1.7433 - accuracy: 0.3866 - val_loss: 10.1985 - val_accuracy: 0.4988\n",
            "Epoch 3/50\n",
            "14/14 [==============================] - ETA: 0s - loss: 1.4055 - accuracy: 0.4678\n",
            "Epoch 3: val_accuracy did not improve from 0.49881\n",
            "14/14 [==============================] - 11s 827ms/step - loss: 1.4055 - accuracy: 0.4678 - val_loss: 13.5510 - val_accuracy: 0.4773\n",
            "Epoch 4/50\n",
            "14/14 [==============================] - ETA: 0s - loss: 1.1388 - accuracy: 0.5155\n",
            "Epoch 4: val_accuracy did not improve from 0.49881\n",
            "14/14 [==============================] - 12s 891ms/step - loss: 1.1388 - accuracy: 0.5155 - val_loss: 11.7372 - val_accuracy: 0.4797\n",
            "Epoch 5/50\n",
            "14/14 [==============================] - ETA: 0s - loss: 1.3409 - accuracy: 0.5084\n",
            "Epoch 5: val_accuracy improved from 0.49881 to 0.52506, saving model to Bestmodel.h5\n",
            "14/14 [==============================] - 12s 896ms/step - loss: 1.3409 - accuracy: 0.5084 - val_loss: 14.2158 - val_accuracy: 0.5251\n",
            "Epoch 6/50\n",
            "14/14 [==============================] - ETA: 0s - loss: 1.8336 - accuracy: 0.4368\n",
            "Epoch 6: val_accuracy did not improve from 0.52506\n",
            "14/14 [==============================] - 12s 841ms/step - loss: 1.8336 - accuracy: 0.4368 - val_loss: 15.1987 - val_accuracy: 0.5131\n",
            "Epoch 7/50\n",
            "14/14 [==============================] - ETA: 0s - loss: 1.3999 - accuracy: 0.5227\n",
            "Epoch 7: val_accuracy did not improve from 0.52506\n",
            "14/14 [==============================] - 12s 888ms/step - loss: 1.3999 - accuracy: 0.5227 - val_loss: 21.5952 - val_accuracy: 0.4773\n",
            "Epoch 8/50\n",
            "14/14 [==============================] - ETA: 0s - loss: 1.1387 - accuracy: 0.5823\n",
            "Epoch 8: val_accuracy did not improve from 0.52506\n",
            "14/14 [==============================] - 12s 844ms/step - loss: 1.1387 - accuracy: 0.5823 - val_loss: 15.2594 - val_accuracy: 0.5107\n",
            "Epoch 8: early stopping\n"
          ]
        }
      ]
    },
    {
      "cell_type": "code",
      "source": [
        "h = his.history\n",
        "h.keys()"
      ],
      "metadata": {
        "colab": {
          "base_uri": "https://localhost:8080/"
        },
        "id": "axDQHJLqysuZ",
        "outputId": "741b7f0c-803d-41ea-9f74-79f2d7eff5a1"
      },
      "execution_count": 39,
      "outputs": [
        {
          "output_type": "execute_result",
          "data": {
            "text/plain": [
              "dict_keys(['loss', 'accuracy', 'val_loss', 'val_accuracy'])"
            ]
          },
          "metadata": {},
          "execution_count": 39
        }
      ]
    },
    {
      "cell_type": "code",
      "source": [
        "plt.plot(h['accuracy'])\n",
        "plt.plot(h['val_accuracy'], c = \"red\")\n",
        "plt.title(\"Acc vs Val_Acc\")\n",
        "plt.show()"
      ],
      "metadata": {
        "colab": {
          "base_uri": "https://localhost:8080/",
          "height": 452
        },
        "id": "drKnjURXy1ZK",
        "outputId": "8019f7b5-514d-43a4-b48f-dee49a8f0ef1"
      },
      "execution_count": 40,
      "outputs": [
        {
          "output_type": "display_data",
          "data": {
            "text/plain": [
              "<Figure size 640x480 with 1 Axes>"
            ],
            "image/png": "[encoded data removed]"
          },
          "metadata": {}
        }
      ]
    },
    {
      "cell_type": "code",
      "source": [
        "plt.plot(h['loss'])\n",
        "plt.plot(h['val_loss'], c = \"red\")\n",
        "plt.title(\"loss vs Val_loss\")\n",
        "plt.show()"
      ],
      "metadata": {
        "colab": {
          "base_uri": "https://localhost:8080/",
          "height": 452
        },
        "id": "Q5GtrZPS0I_V",
        "outputId": "4be27fd3-0d68-4758-e0cc-60c25f1d2ab0"
      },
      "execution_count": 41,
      "outputs": [
        {
          "output_type": "display_data",
          "data": {
            "text/plain": [
              "<Figure size 640x480 with 1 Axes>"
            ],
            "image/png": "[encoded data removed]"
          },
          "metadata": {}
        }
      ]
    },
    {
      "cell_type": "code",
      "source": [
        "#Loading the best model:\n",
        "from keras.models import load_model\n",
        "model = load_model(\"/content/Bestmodel.h5\")"
      ],
      "metadata": {
        "id": "pwwa6TBg0cmm"
      },
      "execution_count": 42,
      "outputs": []
    },
    {
      "cell_type": "code",
      "source": [
        "acc = model.evaluate_generator(val)[1]\n",
        "print(f\"Accuracy is {acc*100}%\")"
      ],
      "metadata": {
        "colab": {
          "base_uri": "https://localhost:8080/"
        },
        "id": "YhoNGBUf01ax",
        "outputId": "49bede69-6c22-4ebb-fec8-ea1e34d1ea5c"
      },
      "execution_count": 43,
      "outputs": [
        {
          "output_type": "stream",
          "name": "stderr",
          "text": [
            "<ipython-input-43-6451b476329e>:1: UserWarning: `Model.evaluate_generator` is deprecated and will be removed in a future version. Please use `Model.evaluate`, which supports generators.\n",
            "  acc = model.evaluate_generator(val)[1]\n"
          ]
        },
        {
          "output_type": "stream",
          "name": "stdout",
          "text": [
            "Accuracy is 52.505964040756226%\n"
          ]
        }
      ]
    },
    {
      "cell_type": "code",
      "source": [
        "def prediction(path):\n",
        "  img  = load_img(path, target_size=(256,256))\n",
        "  i = img_to_array(img)\n",
        "  im = preprocess_input(i)#VGG19 model\n",
        "  img = np.expand_dims(im, axis = 0)#Extra dim of size 1 at axis 0\n",
        "  pred = np.argmax(model.predict(img))#probability\n",
        "  print(f\"The image belongs to {ref[pred]}\")\n",
        "\n",
        "path = \"/content/Scab_leaf.jpeg\"\n",
        "prediction(path)"
      ],
      "metadata": {
        "colab": {
          "base_uri": "https://localhost:8080/"
        },
        "id": "RzhgkMKg4noD",
        "outputId": "acdd3c24-44e8-4a79-d520-581dea3d0671"
      },
      "execution_count": 46,
      "outputs": [
        {
          "output_type": "stream",
          "name": "stdout",
          "text": [
            "1/1 [==============================] - 0s 18ms/step\n",
            "The image belongs to SCAB LEAVES\n"
          ]
        }
      ]
    },
    {
      "cell_type": "code",
      "source": [
        "#Reference:\n",
        "ref = dict(zip(list(train.class_indices.values()), list(train.class_indices.keys())))"
      ],
      "metadata": {
        "id": "va-tQzr15nad"
      },
      "execution_count": 45,
      "outputs": []
    }
  ]
}